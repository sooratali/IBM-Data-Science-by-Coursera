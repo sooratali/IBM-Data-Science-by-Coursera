{
 "cells": [
  {
   "cell_type": "markdown",
   "id": "d3ecb082-b05a-4dde-b763-35c86206b0c2",
   "metadata": {},
   "source": [
    "<b>Data Science Fundamentals: Tools, Libraries, and Examples</b>"
   ]
  },
  {
   "cell_type": "markdown",
   "id": "cf4185fa-0a70-4004-b8ff-7340c5d96cce",
   "metadata": {},
   "source": [
    "This notebook refers to the basics of jupyter notebook and Data Science"
   ]
  },
  {
   "cell_type": "markdown",
   "id": "9d2fcc7f-6bac-459f-be40-d80534f52d15",
   "metadata": {},
   "source": [
    "<b>List of Data Science Libraries</b>\n",
    "\n",
    "1. Numpy\n",
    "2. Pandas\n",
    "3. Matplotlib\n",
    "4. Scikitlearn\n",
    "5. TensorFlows\n"
   ]
  },
  {
   "cell_type": "markdown",
   "id": "fcaac1fb-2aaf-489c-9495-bd741035e79f",
   "metadata": {},
   "source": [
    "### Data Science Tools Table\r\n",
    "\r\n",
    "| **Category**                | **Tool**                | **Description** |\r\n",
    "|-----------------------------|-------------------------|--------------------------------------------------------------------------------------------------|\r\n",
    "| **Programming Languages**    | Python                  | Popular for data analysis, machine learning, and automation. Libraries: pandas, numpy, scikit-learn, TensorFlow. |\r\n",
    "|                             | R                       | Used for statistical computing and data visualization. Packages: ggplot2, dplyr, caret. |\r\n",
    "| **Data Visualization**       | Tableau                 | Tool for interactive dashboards and data visualization. |\r\n",
    "|                             | Power BI                | Microsoft's business intelligence tool for reports and dashboards. |\r\n",
    "|                             | Matplotlib              | Python library for static and animated visualizations. |\r\n",
    "|                             | Seaborn                 | Statistical visualization library built on Matplotlib. |\r\n",
    "| **Machine Learning/AI**      | TensorFlow              | Open-source machine learning framework for deep learning models. |\r\n",
    "|                             | Scikit-learn            | Machine learning library for predictive modeling and analysis. |\r\n",
    "|                             | Keras                   | High-level neural networks API built on TensorFlow. |\r\n",
    "|                             | PyTorch                 | Deep learning framework widely used for AI research. |\r\n",
    "| **Data Cleaning/Processing** | Pandas                  | Python library for data manipulation and analysis. |\r\n",
    "|                             | NumPy                   | Used for numerical computing and handling large arrays. |\r\n",
    "|                             | OpenRefine              | Tool for cleaning messy data and transforming it. |\r\n",
    "| **Big Data**                 | Apache Hadoop           | Framework for distributed storage and processing of big data. |\r\n",
    "|                             | Apache Spark            | Fast data processing engine for large-scale analytics. |\r\n",
    "|                             | Dask                    | Scalable parallel computing library for large datasets. |\r\n",
    "| **Databases**                | SQL (MySQL, PostgreSQL) | Query language for relational databases. |\r\n",
    "|                             | MongoDB                 | NoSQL database for handling unstructured data. |\r\n",
    "| **Cloud Platforms**          | AWS                     | Cloud services for data storage, computing, and AI. |\r\n",
    "|                             | Google Cloud Platform   | Cloud computing with AI and machine learning services. |\r\n",
    "|                             | Microsoft Azure         | Cloud services including machine learning and data analytics. |\r\n",
    "| **Data Collaboration**       | Jupyter Notebooks       | Web-based interactive computing environment. |\r\n",
    "|                             | GitHub                  | Platform for version control and project collaboration. |\r\n",
    "| **Data Integration**         | Apache NiFi             | Data integration tool for automating data movement. |\r\n",
    "|                             | Talend                  | Data integration and transformation tool for pipelines. |\r\n",
    "\r\n",
    "        \r\n"
   ]
  },
  {
   "cell_type": "markdown",
   "id": "9b364075-256a-4244-8292-7b14c1507459",
   "metadata": {},
   "source": [
    "<b>Introducing Arthematic Expression Examples</b>"
   ]
  },
  {
   "cell_type": "code",
   "execution_count": 12,
   "id": "417d39ad-dae5-4052-acc5-fdda4a5b6d81",
   "metadata": {},
   "outputs": [
    {
     "name": "stdout",
     "output_type": "stream",
     "text": [
      "a =  5\n",
      "b =  10\n",
      "Multiplication: a*b =  50\n",
      "Addition: a+b =  15\n"
     ]
    }
   ],
   "source": [
    "a = 5\n",
    "b = 10\n",
    "print(\"a = \", a)\n",
    "print(\"b = \", b)\n",
    "print(\"Multiplication: a*b = \", a*b)\n",
    "print(\"Addition: a+b = \", a+b)\n"
   ]
  },
  {
   "cell_type": "code",
   "execution_count": 13,
   "id": "1091a659-52d7-4524-8ac2-1b70a9da4de2",
   "metadata": {},
   "outputs": [
    {
     "name": "stdout",
     "output_type": "stream",
     "text": [
      "Minutes =  120\n",
      "Hours =  2.0\n"
     ]
    }
   ],
   "source": [
    "minutes = 120\n",
    "hour = minutes/60\n",
    "print(\"Minutes = \", minutes)\n",
    "print(\"Hours = \", hour)"
   ]
  },
  {
   "cell_type": "markdown",
   "id": "42a10d21-5dc6-48b2-ae67-08230e39376b",
   "metadata": {},
   "source": [
    "Objectives"
   ]
  },
  {
   "cell_type": "markdown",
   "id": "5547fd29-1e80-40d4-941f-700ceffc2012",
   "metadata": {},
   "source": [
    "Author Name<br>\n",
    "<b>SOORAT ALI</b>"
   ]
  }
 ],
 "metadata": {
  "kernelspec": {
   "display_name": "Python 3 (ipykernel)",
   "language": "python",
   "name": "python3"
  },
  "language_info": {
   "codemirror_mode": {
    "name": "ipython",
    "version": 3
   },
   "file_extension": ".py",
   "mimetype": "text/x-python",
   "name": "python",
   "nbconvert_exporter": "python",
   "pygments_lexer": "ipython3",
   "version": "3.11.7"
  }
 },
 "nbformat": 4,
 "nbformat_minor": 5
}
